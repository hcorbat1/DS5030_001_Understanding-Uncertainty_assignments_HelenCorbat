{
 "cells": [
  {
   "cell_type": "markdown",
   "id": "87b91d83",
   "metadata": {},
   "source": [
    "# Assignment 2\n",
    "### Understanding Uncertainty\n",
    "### Due 9/12"
   ]
  },
  {
   "cell_type": "markdown",
   "id": "6a22cf8d",
   "metadata": {},
   "source": [
    "### Helen Corbat"
   ]
  },
  {
   "cell_type": "markdown",
   "id": "380e339f",
   "metadata": {},
   "source": [
    "1. 'State Bottle Retail' is the price at which the bottle is sold, while 'State Bottle Cost' is the price the state pays for a bottle.\n",
    "- How do you define the most profitable item? Why? Explain your thinking.\n",
    "- Use `.groupby` calculations to determine the most profitable liquors sold in Iowa.\n",
    "- Make a plot of the top liquors."
   ]
  },
  {
   "cell_type": "markdown",
   "id": "e6b190cb",
   "metadata": {},
   "source": [
    "- I'm going to define profit as percentage (Retail/Cost-1)*100%. This allows us to compare profit between items might have very different costs."
   ]
  },
  {
   "cell_type": "code",
   "execution_count": 3,
   "id": "7dd0790c",
   "metadata": {},
   "outputs": [
    {
     "data": {
      "text/html": [
       "<div>\n",
       "<style scoped>\n",
       "    .dataframe tbody tr th:only-of-type {\n",
       "        vertical-align: middle;\n",
       "    }\n",
       "\n",
       "    .dataframe tbody tr th {\n",
       "        vertical-align: top;\n",
       "    }\n",
       "\n",
       "    .dataframe thead th {\n",
       "        text-align: right;\n",
       "    }\n",
       "</style>\n",
       "<table border=\"1\" class=\"dataframe\">\n",
       "  <thead>\n",
       "    <tr style=\"text-align: right;\">\n",
       "      <th></th>\n",
       "      <th>total_cost</th>\n",
       "      <th>Sale (Dollars)</th>\n",
       "      <th>percent_profit</th>\n",
       "      <th>total_profit</th>\n",
       "    </tr>\n",
       "    <tr>\n",
       "      <th>Item Description</th>\n",
       "      <th></th>\n",
       "      <th></th>\n",
       "      <th></th>\n",
       "      <th></th>\n",
       "    </tr>\n",
       "  </thead>\n",
       "  <tbody>\n",
       "    <tr>\n",
       "      <th>BLONDIES LEMONADE</th>\n",
       "      <td>15.00</td>\n",
       "      <td>135.00</td>\n",
       "      <td>800.000000</td>\n",
       "      <td>120.00</td>\n",
       "    </tr>\n",
       "    <tr>\n",
       "      <th>OLD PULTENEY 12YR</th>\n",
       "      <td>22.50</td>\n",
       "      <td>202.50</td>\n",
       "      <td>800.000000</td>\n",
       "      <td>180.00</td>\n",
       "    </tr>\n",
       "    <tr>\n",
       "      <th>JAGERMEISTER COLD BREW COFFEE LIQUEUR MINI</th>\n",
       "      <td>145.53</td>\n",
       "      <td>487.30</td>\n",
       "      <td>234.845049</td>\n",
       "      <td>341.77</td>\n",
       "    </tr>\n",
       "    <tr>\n",
       "      <th>BAILEYS W/2 DESSERT BOWLS</th>\n",
       "      <td>37.50</td>\n",
       "      <td>112.50</td>\n",
       "      <td>200.000000</td>\n",
       "      <td>75.00</td>\n",
       "    </tr>\n",
       "    <tr>\n",
       "      <th>WESTERN SON ORIGINAL VODKA</th>\n",
       "      <td>117.13</td>\n",
       "      <td>324.48</td>\n",
       "      <td>177.025527</td>\n",
       "      <td>207.35</td>\n",
       "    </tr>\n",
       "  </tbody>\n",
       "</table>\n",
       "</div>"
      ],
      "text/plain": [
       "                                            total_cost  Sale (Dollars)  \\\n",
       "Item Description                                                         \n",
       "BLONDIES LEMONADE                                15.00          135.00   \n",
       "OLD PULTENEY 12YR                                22.50          202.50   \n",
       "JAGERMEISTER COLD BREW COFFEE LIQUEUR MINI      145.53          487.30   \n",
       "BAILEYS W/2 DESSERT BOWLS                        37.50          112.50   \n",
       "WESTERN SON ORIGINAL VODKA                      117.13          324.48   \n",
       "\n",
       "                                            percent_profit  total_profit  \n",
       "Item Description                                                          \n",
       "BLONDIES LEMONADE                               800.000000        120.00  \n",
       "OLD PULTENEY 12YR                               800.000000        180.00  \n",
       "JAGERMEISTER COLD BREW COFFEE LIQUEUR MINI      234.845049        341.77  \n",
       "BAILEYS W/2 DESSERT BOWLS                       200.000000         75.00  \n",
       "WESTERN SON ORIGINAL VODKA                      177.025527        207.35  "
      ]
     },
     "execution_count": 3,
     "metadata": {},
     "output_type": "execute_result"
    }
   ],
   "source": [
    "import pandas as pd\n",
    "import numpy as np\n",
    "df = pd.read_csv('iowa.csv')\n",
    "df[\"total_cost\"] = df[\"State Bottle Cost\"] *df[\"Bottles Sold\"]\n",
    "item_df = df.groupby(\"Item Description\").agg({\"total_cost\":\"sum\",\"Sale (Dollars)\":\"sum\"})\n",
    "item_df[\"percent_profit\"] = (item_df[\"Sale (Dollars)\"]/item_df[\"total_cost\"]-1)*100\n",
    "item_df[\"total_profit\"]=item_df[\"Sale (Dollars)\"] - item_df[\"total_cost\"]\n",
    "item_df.sort_values(\"percent_profit\",ascending= False).head()\n",
    "\n"
   ]
  },
  {
   "cell_type": "code",
   "execution_count": 6,
   "id": "3a532920",
   "metadata": {},
   "outputs": [
    {
     "data": {
      "text/html": [
       "<div>\n",
       "<style scoped>\n",
       "    .dataframe tbody tr th:only-of-type {\n",
       "        vertical-align: middle;\n",
       "    }\n",
       "\n",
       "    .dataframe tbody tr th {\n",
       "        vertical-align: top;\n",
       "    }\n",
       "\n",
       "    .dataframe thead th {\n",
       "        text-align: right;\n",
       "    }\n",
       "</style>\n",
       "<table border=\"1\" class=\"dataframe\">\n",
       "  <thead>\n",
       "    <tr style=\"text-align: right;\">\n",
       "      <th></th>\n",
       "      <th>total_cost</th>\n",
       "      <th>Sale (Dollars)</th>\n",
       "      <th>percent_profit</th>\n",
       "      <th>total_profit</th>\n",
       "    </tr>\n",
       "    <tr>\n",
       "      <th>Item Description</th>\n",
       "      <th></th>\n",
       "      <th></th>\n",
       "      <th></th>\n",
       "      <th></th>\n",
       "    </tr>\n",
       "  </thead>\n",
       "  <tbody>\n",
       "    <tr>\n",
       "      <th>TITOS HANDMADE VODKA</th>\n",
       "      <td>727950.18</td>\n",
       "      <td>1089534.02</td>\n",
       "      <td>49.671509</td>\n",
       "      <td>361583.84</td>\n",
       "    </tr>\n",
       "    <tr>\n",
       "      <th>BLACK VELVET</th>\n",
       "      <td>543040.88</td>\n",
       "      <td>817065.33</td>\n",
       "      <td>50.461109</td>\n",
       "      <td>274024.45</td>\n",
       "    </tr>\n",
       "    <tr>\n",
       "      <th>FIREBALL CINNAMON WHISKEY</th>\n",
       "      <td>374954.38</td>\n",
       "      <td>562508.92</td>\n",
       "      <td>50.020629</td>\n",
       "      <td>187554.54</td>\n",
       "    </tr>\n",
       "    <tr>\n",
       "      <th>CROWN ROYAL</th>\n",
       "      <td>321723.07</td>\n",
       "      <td>482125.60</td>\n",
       "      <td>49.857329</td>\n",
       "      <td>160402.53</td>\n",
       "    </tr>\n",
       "    <tr>\n",
       "      <th>CROWN ROYAL REGAL APPLE</th>\n",
       "      <td>245643.06</td>\n",
       "      <td>368257.76</td>\n",
       "      <td>49.915801</td>\n",
       "      <td>122614.70</td>\n",
       "    </tr>\n",
       "  </tbody>\n",
       "</table>\n",
       "</div>"
      ],
      "text/plain": [
       "                           total_cost  Sale (Dollars)  percent_profit  \\\n",
       "Item Description                                                        \n",
       "TITOS HANDMADE VODKA        727950.18      1089534.02       49.671509   \n",
       "BLACK VELVET                543040.88       817065.33       50.461109   \n",
       "FIREBALL CINNAMON WHISKEY   374954.38       562508.92       50.020629   \n",
       "CROWN ROYAL                 321723.07       482125.60       49.857329   \n",
       "CROWN ROYAL REGAL APPLE     245643.06       368257.76       49.915801   \n",
       "\n",
       "                           total_profit  \n",
       "Item Description                         \n",
       "TITOS HANDMADE VODKA          361583.84  \n",
       "BLACK VELVET                  274024.45  \n",
       "FIREBALL CINNAMON WHISKEY     187554.54  \n",
       "CROWN ROYAL                   160402.53  \n",
       "CROWN ROYAL REGAL APPLE       122614.70  "
      ]
     },
     "execution_count": 6,
     "metadata": {},
     "output_type": "execute_result"
    }
   ],
   "source": [
    "item_df.sort_values(\"total_profit\",ascending= False).head()"
   ]
  },
  {
   "cell_type": "code",
   "execution_count": 5,
   "id": "5f707fe9",
   "metadata": {},
   "outputs": [
    {
     "data": {
      "image/png": "[encoded data removed]",
      "text/plain": [
       "<Figure size 640x480 with 1 Axes>"
      ]
     },
     "metadata": {},
     "output_type": "display_data"
    }
   ],
   "source": [
    "import matplotlib.pyplot as plt\n",
    "top_liquors = item_df.sort_values(\"total_profit\",ascending= True).tail(8)\n",
    "top_liquors.plot.barh(y = \"total_profit\")\n",
    "plt.show()\n"
   ]
  },
  {
   "cell_type": "markdown",
   "id": "63593bde",
   "metadata": {},
   "source": [
    "2. This question is to further explore broadcasting in NumPy.\n",
    "\n",
    "- In the first code chunk below, there are two vectors, $x$ and $y$. What happens when you try to subtract them?\n",
    "- Instead, try `x.reshape(-1,1)-y.reshape(-1,1)`. What do you get?\n",
    "- Try `x.reshape(1,-1)-y.reshape(1,-1)`. Compare the results to your previous answer.\n",
    "- Write two double for-loops to replicate the results of the previous two answers. \n",
    "- Clearly explain how `x.reshape(1,-1)` and `x.reshape(-1,1)` change $x$"
   ]
  },
  {
   "cell_type": "code",
   "execution_count": 33,
   "id": "e29b3aac",
   "metadata": {},
   "outputs": [],
   "source": [
    "import numpy as np\n",
    "\n",
    "x = np.array([1,3,5])\n",
    "y = np.array([2,5])"
   ]
  },
  {
   "cell_type": "code",
   "execution_count": 34,
   "id": "74f5be18",
   "metadata": {},
   "outputs": [
    {
     "ename": "ValueError",
     "evalue": "operands could not be broadcast together with shapes (3,) (2,) ",
     "output_type": "error",
     "traceback": [
      "\u001b[1;31m---------------------------------------------------------------------------\u001b[0m",
      "\u001b[1;31mValueError\u001b[0m                                Traceback (most recent call last)",
      "Cell \u001b[1;32mIn[34], line 1\u001b[0m\n\u001b[1;32m----> 1\u001b[0m \u001b[38;5;28mprint\u001b[39m(x\u001b[38;5;241m-\u001b[39my)\n",
      "\u001b[1;31mValueError\u001b[0m: operands could not be broadcast together with shapes (3,) (2,) "
     ]
    }
   ],
   "source": [
    "print(x-y)"
   ]
  },
  {
   "cell_type": "markdown",
   "id": "f80c53cf",
   "metadata": {},
   "source": [
    "I received a ValueError because the shapes between x & y did not match."
   ]
  },
  {
   "cell_type": "code",
   "execution_count": 37,
   "id": "0a49f38e",
   "metadata": {},
   "outputs": [
    {
     "data": {
      "text/plain": [
       "array([[-1, -4],\n",
       "       [ 1, -2],\n",
       "       [ 3,  0]])"
      ]
     },
     "execution_count": 37,
     "metadata": {},
     "output_type": "execute_result"
    }
   ],
   "source": [
    "x.reshape(-1,1)-y.reshape(1,-1)"
   ]
  },
  {
   "cell_type": "markdown",
   "id": "d1cb5bd9",
   "metadata": {},
   "source": [
    "now, I'm getting a 3 X 2 array."
   ]
  },
  {
   "cell_type": "code",
   "execution_count": 39,
   "id": "964f108c",
   "metadata": {},
   "outputs": [
    {
     "data": {
      "text/plain": [
       "array([[-1,  1,  3],\n",
       "       [-4, -2,  0]])"
      ]
     },
     "execution_count": 39,
     "metadata": {},
     "output_type": "execute_result"
    }
   ],
   "source": [
    "x.reshape(1,-1)-y.reshape(-1,1)"
   ]
  },
  {
   "cell_type": "markdown",
   "id": "d27c28a0",
   "metadata": {},
   "source": [
    "This one I got a 2 X 3 array, which happens to be the transpose of the previous one."
   ]
  },
  {
   "cell_type": "code",
   "execution_count": null,
   "id": "45eb0993",
   "metadata": {},
   "outputs": [
    {
     "name": "stdout",
     "output_type": "stream",
     "text": [
      "[[-1. -4.]\n",
      " [ 1. -2.]\n",
      " [ 3.  0.]]\n"
     ]
    }
   ],
   "source": [
    "result = np.zeros(shape = (3,2))\n",
    "for i in range(len(x)):\n",
    "    for j in range(len(y)):\n",
    "        result[i][j] = x[i]-y[j]\n",
    "print(result)"
   ]
  },
  {
   "cell_type": "code",
   "execution_count": 49,
   "id": "7691ebbb",
   "metadata": {},
   "outputs": [
    {
     "name": "stdout",
     "output_type": "stream",
     "text": [
      "[[-1.  1.  3.]\n",
      " [-4. -2.  0.]]\n"
     ]
    }
   ],
   "source": [
    "result = np.zeros(shape = (2,3))\n",
    "for i in range(len(y)):\n",
    "    for j in range(len(x)):\n",
    "        result[i][j] = x[j]-y[i]\n",
    "print(result)"
   ]
  },
  {
   "cell_type": "markdown",
   "id": "236667fb",
   "metadata": {},
   "source": [
    "the reshape(-1,1) sets the size of the last axis to 1, in other words, it takes 1 dimensional array and turns into 2 dimensional array with one column. \n",
    "the reshape (1,-1) takes the one dimenional arry and turns into two dimensional array with one row and as many columns as needed."
   ]
  },
  {
   "cell_type": "markdown",
   "id": "b29f1d35",
   "metadata": {},
   "source": [
    "3. The indicator function $\\mathbb{I}\\{ x \\le z \\}$ takes the value 0 if $x>z$ is false and 1 if $x \\le z$ is true.\n",
    "\n",
    "- For $y = 3$, plot the indicator function for any $z$\n",
    "- Explain how $ 1- \\mathbb{I}\\{ x \\le z \\} = \\mathbb{I}\\{ x > z \\}$. Drawing a plot might help, or looking at the definition that\n",
    "$$\n",
    "\\mathbb{I}\\{x \\le z\\} = \\begin{cases}\n",
    "0, &x > z \\\\\n",
    "1, &x \\le z\n",
    "\\end{cases}\n",
    "$$\n",
    "- The code below generates a random sample for different numbers of observations, $N = 3, 30, 300, 3000 $. Write a function to compute the ECDF curve for each sample, and plot your results.\n",
    "- Describe in your own words what happens to the ECDF qualitatively as the sample size $N$ increases"
   ]
  },
  {
   "cell_type": "code",
   "execution_count": 53,
   "id": "e421719b",
   "metadata": {},
   "outputs": [
    {
     "data": {
      "image/png": "[encoded data removed]",
      "text/plain": [
       "<Figure size 640x480 with 1 Axes>"
      ]
     },
     "metadata": {},
     "output_type": "display_data"
    }
   ],
   "source": [
    "x = 3\n",
    "z = np.array([0,1,2,3,4,5,6])\n",
    "ind = np.where(x <= z,1,0)\n",
    "plt.plot(ind)\n",
    "plt.show()"
   ]
  },
  {
   "cell_type": "markdown",
   "id": "77eff06b",
   "metadata": {},
   "source": [
    "if I{x <= z} = 0, then I{x > z} will equal 1 because in all cases 1 and only in these conditions will be true."
   ]
  },
  {
   "cell_type": "code",
   "execution_count": 9,
   "id": "17ad7d01",
   "metadata": {},
   "outputs": [
    {
     "data": {
      "image/png": "[encoded data removed]",
      "text/plain": [
       "<Figure size 640x480 with 1 Axes>"
      ]
     },
     "metadata": {},
     "output_type": "display_data"
    }
   ],
   "source": [
    "import numpy as np\n",
    "import seaborn as sns\n",
    "\n",
    "rng = np.random.default_rng(100)\n",
    "\n",
    "def ecdf(x, plot = True, N = None):\n",
    "    # Compute ecdf function:\n",
    "    Z = np.sort(x.unique()) # Extract and sort unique values for x\n",
    "    compare = x.to_numpy().reshape(-1,1) <= Z.reshape(1,-1) # Compare x and Z values\n",
    "    \n",
    "    ecdf = np.mean(compare,axis=0) # Average over x indices for each z\n",
    "    \n",
    "    if plot:\n",
    "        # Plot the ecdf:\n",
    "        title_str = \"X\"\n",
    "        plt.plot(Z,ecdf,label = str(N) )\n",
    "        plt.title(f'Empirical CDF: {title_str}')\n",
    "        plt.ylabel('Proportion')\n",
    "        plt.xlabel(title_str)\n",
    "        plt.legend()\n",
    "    return ecdf, Z\n",
    "\n",
    "for N in (3,30,300,3000):\n",
    "    X = rng.normal(0,1,N)\n",
    "    # ECDF plot goes here:\n",
    "    X = pd.Series(X)\n",
    "    F_hat,grid = ecdf(X,N = N)\n"
   ]
  },
  {
   "cell_type": "markdown",
   "id": "969e92a2",
   "metadata": {},
   "source": [
    "From the ECDF plot above,the ECDF plot gets much smoothier as the sample size increases."
   ]
  },
  {
   "cell_type": "markdown",
   "id": "6c8f1ebb",
   "metadata": {},
   "source": [
    "4. A **quantile** generalizes the concept of the median so that instead of 50% of the mass below and 50% above, the $q$-quantile is the value for which $q$ proportion of the data are below that value and $(1-q)$ proportion of the data are above that value. This is a concept of **order**.\n",
    "\n",
    "- Write a function that computes any quantile without using Numpy's `np.quantile`\n",
    "- Write a function that computes the **Interquartile Range (IQR)** -- the .25 quantile and the .75 quantile, which brackets 50% of the data -- and the **whiskers**: $\\pm 1.5 \\times \\text{IQR}$ from the edges of the IQR\n",
    "- Write a function that computes a five-number summary and values for a boxplot: the minimum, the .25 quantile, the median, the .75 quantile, and the maximum, and the whiskers\n",
    "- Anything outside the whiskers is an **outlier**; write a function that returns a Boolean vector indicating if the observations are outliers.\n",
    "- For a numeric variable of your choice from one of the datasets, apply your functions from above, and compare your answers with `sns.boxplot` and `df.describe`. "
   ]
  },
  {
   "cell_type": "code",
   "execution_count": 22,
   "id": "f620c5f8",
   "metadata": {},
   "outputs": [
    {
     "name": "stdout",
     "output_type": "stream",
     "text": [
      "3.56712031045318\n"
     ]
    }
   ],
   "source": [
    "def my_quantile(X,q):\n",
    "    F_hat,Z = ecdf(X,N = len(X),plot= False)\n",
    "    idex = np.argmin(F_hat < q)\n",
    "    return Z[idex]\n",
    "print(my_quantile(X,1))"
   ]
  },
  {
   "cell_type": "code",
   "execution_count": null,
   "id": "1e321a34",
   "metadata": {},
   "outputs": [],
   "source": [
    "def IQR(X):\n",
    "    return(my_quantile(X,0.75)-my_quantile(X,0.25))\n"
   ]
  },
  {
   "cell_type": "code",
   "execution_count": 29,
   "id": "12c91d7c",
   "metadata": {},
   "outputs": [],
   "source": [
    "def five_number(X):\n",
    "    first = my_quantile(X,0)\n",
    "    second =my_quantile(X,0.25)\n",
    "    third = my_quantile(X,0.5)\n",
    "    fourth = my_quantile(X,0.75)\n",
    "    Fifth = my_quantile(X,1)\n",
    "    whisker1 = second -(1.5 * IQR(X))\n",
    "    whisker2 = fourth + (1.5*IQR(X))\n",
    "    return(whisker1,whisker2,first,second,third,fourth,Fifth)"
   ]
  },
  {
   "cell_type": "code",
   "execution_count": 30,
   "id": "73725b9d",
   "metadata": {},
   "outputs": [],
   "source": [
    "def outlier(X):\n",
    "    whisker1,whisker2,_,_,_,_,_ = five_number(X)\n",
    "    return((X < whisker1)| (X > whisker2))"
   ]
  },
  {
   "cell_type": "code",
   "execution_count": 31,
   "id": "b16ab587",
   "metadata": {},
   "outputs": [
    {
     "name": "stdout",
     "output_type": "stream",
     "text": [
      "(-138.01999999999995, 327.41999999999996, -1628.4, 36.52, 78.66, 152.88, 36720.0)\n"
     ]
    }
   ],
   "source": [
    "X = df[\"Sale (Dollars)\"]\n",
    "print(five_number(X))"
   ]
  },
  {
   "cell_type": "code",
   "execution_count": 32,
   "id": "d0cfdb00",
   "metadata": {},
   "outputs": [
    {
     "data": {
      "text/plain": [
       "count    159904.000000\n",
       "mean        146.931598\n",
       "std         459.368723\n",
       "min       -1628.400000\n",
       "25%          36.550000\n",
       "50%          78.660000\n",
       "75%         152.880000\n",
       "max       36720.000000\n",
       "Name: Sale (Dollars), dtype: float64"
      ]
     },
     "execution_count": 32,
     "metadata": {},
     "output_type": "execute_result"
    }
   ],
   "source": [
    "X.describe()"
   ]
  },
  {
   "cell_type": "code",
   "execution_count": 33,
   "id": "b6259a5b",
   "metadata": {},
   "outputs": [
    {
     "data": {
      "text/plain": [
       "<Axes: ylabel='Sale (Dollars)'>"
      ]
     },
     "execution_count": 33,
     "metadata": {},
     "output_type": "execute_result"
    },
    {
     "data": {
      "image/png": "[encoded data removed]",
      "text/plain": [
       "<Figure size 640x480 with 1 Axes>"
      ]
     },
     "metadata": {},
     "output_type": "display_data"
    }
   ],
   "source": [
    "import seaborn as sns\n",
    "sns.boxplot(X)"
   ]
  },
  {
   "cell_type": "markdown",
   "id": "99f4c407",
   "metadata": {},
   "source": [
    "5. The kernel density estimator captures the concentration of the data around various points, and is defined as\n",
    "$$\n",
    "\\hat{f}_{N,h}(z) = \\frac{1}{N} \\sum_{i=1}^N \\frac{1}{h} k \\left( \\frac{x_i - z}{h}\\right)\n",
    "$$\n",
    "where $h$ is the bandwidth and $k()$ is one of the kernel functions from the class materials (Gaussian, Epanechnikov, uniform, triangular).\n",
    "\n",
    "- Write a function that takes the bandwidth $h$ as given, and computes and plots $\\hat{f}_{N,h}(z)$, for the kernels listed in the slides\n",
    "- Write a function that computes the plug-in bandwidth\n",
    "- Use your functions to analyze some numeric variables from a dataset of your choice, using a variety of bandwidths\n",
    "- Compare bandwidths that are greater or less than the plug-in value with the results for the plug-in value. When does the KDE appear to be overfitting? Underfitting?"
   ]
  }
 ],
 "metadata": {
  "kernelspec": {
   "display_name": "base",
   "language": "python",
   "name": "python3"
  },
  "language_info": {
   "codemirror_mode": {
    "name": "ipython",
    "version": 3
   },
   "file_extension": ".py",
   "mimetype": "text/x-python",
   "name": "python",
   "nbconvert_exporter": "python",
   "pygments_lexer": "ipython3",
   "version": "3.12.7"
  }
 },
 "nbformat": 4,
 "nbformat_minor": 5
}
